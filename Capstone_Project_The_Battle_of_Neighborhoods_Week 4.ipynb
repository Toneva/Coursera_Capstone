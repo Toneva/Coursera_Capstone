{
 "cells": [
  {
   "cell_type": "markdown",
   "metadata": {},
   "source": [
    "# Peer-graded Assigement:\n",
    "\n",
    "## Capstone Project - The Battle of Neighborhoods\n",
    "\n",
    "## Chicago: Is it the Safest City to Live in the U.S.?\n"
   ]
  },
  {
   "cell_type": "markdown",
   "metadata": {},
   "source": [
    "### Report for the course of “Applied Data Science Capstone” - The Battle of Neighborhoods (Week 4)"
   ]
  },
  {
   "cell_type": "markdown",
   "metadata": {},
   "source": [
    "<b>1.\tIntroduction </b>\n",
    "\n",
    "<b>Background </b>\n",
    "<p>Chicago is one of biggest cities in the USA. Per the United States Census Bureau estimates as of 2018 Chicago is the third-largest city by population. It is also a major world financial center and the second-largest central business district in the United States. Nonetheless, Chicago is also among the ten largest metropolitan areas in the US by crime rate. According to Wikipedia, the city's overall crime rate is higher than the US average. \n",
    "</p>\n",
    "\n",
    "<b>Problem</b> \n",
    "<p>The question to be discussed is whether there is dependency between the crime rate and the venues in the city. Arguably, the crime rate determines the number of venues in the city. Here we will test this hypothesis. \n",
    "</p>\n",
    "\n",
    "<b>Interest</b>\n",
    "<p>This project is tailored towards a variety of audiences, ranging from researchers and sociologists to anyone, who might be in a search for a new home or is interested in exploring new community areas in Chicago.\n"
   ]
  },
  {
   "cell_type": "markdown",
   "metadata": {},
   "source": [
    "<b>2.\tData </b>\n",
    "\n",
    "<p>In the 1920s, the city has been subdivided into 77  distinct community areas. In order to find the areas with the biggest crime activity, the Data Portal of the city of Chicago provides a detailed information pertaining to the crimes since 2001 (https://data.cityofchicago.org/Public-Safety/Crimes-2001-to-present/ijzp-q8t2). However, as we would like to get a more up-to-date perspective on the matter, we will utilize the date since 2016.\n",
    "</p>\n",
    "\n",
    "<p>Chicago Data Portal will also furnish us with details for the community areas, including the respective coordinates. This will help us create a choropleth map of the crime data per area. \n",
    "</p>\n",
    "\n",
    "<p>FOURSQUARE website, and more precisely by using its API call, we will obtain information about the current venues in these areas. The idea is to check whether the crime activity, accumulated over a period of three and a half years shapes the venues in the current daily life. \n",
    "</p>"
   ]
  },
  {
   "cell_type": "code",
   "execution_count": null,
   "metadata": {},
   "outputs": [],
   "source": []
  }
 ],
 "metadata": {
  "kernelspec": {
   "display_name": "Python 3",
   "language": "python",
   "name": "python3"
  },
  "language_info": {
   "codemirror_mode": {
    "name": "ipython",
    "version": 3
   },
   "file_extension": ".py",
   "mimetype": "text/x-python",
   "name": "python",
   "nbconvert_exporter": "python",
   "pygments_lexer": "ipython3",
   "version": "3.7.3"
  }
 },
 "nbformat": 4,
 "nbformat_minor": 2
}
